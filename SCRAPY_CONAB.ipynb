{
  "nbformat": 4,
  "nbformat_minor": 0,
  "metadata": {
    "colab": {
      "name": "SCRAPY CONAB.ipynb",
      "provenance": [],
      "authorship_tag": "ABX9TyOiQG+BUonujqre2DolfnBX",
      "include_colab_link": true
    },
    "kernelspec": {
      "name": "python3",
      "display_name": "Python 3"
    },
    "language_info": {
      "name": "python"
    }
  },
  "cells": [
    {
      "cell_type": "markdown",
      "metadata": {
        "id": "view-in-github",
        "colab_type": "text"
      },
      "source": [
        "<a href=\"https://colab.research.google.com/github/sobrinhodasilva/dados_conab/blob/main/SCRAPY_CONAB.ipynb\" target=\"_parent\"><img src=\"https://colab.research.google.com/assets/colab-badge.svg\" alt=\"Open In Colab\"/></a>"
      ]
    },
    {
      "cell_type": "markdown",
      "source": [
        "# Conab\n",
        "Companhia Nacional de Abastecimento\n",
        "\n",
        "\n",
        "Scrapy no site da CONAB para obtenção das planilhas com os referencial de custo de produdução agrícola, pecoaria e Sociobiodiversidade.\n",
        "\n",
        "Mais inforamções em https://www.conab.gov.br/info-agro/custos-de-producao"
      ],
      "metadata": {
        "id": "SW46MsKmmHP_"
      }
    },
    {
      "cell_type": "code",
      "execution_count": 5,
      "metadata": {
        "id": "lz7wkrrzlGvP"
      },
      "outputs": [],
      "source": [
        "# importing the libraries\n",
        "from bs4 import BeautifulSoup\n",
        "import requests\n",
        "# Acessar os arquivos \n",
        "import os\n",
        "#import regex \n",
        "import re\n",
        "import pandas as pd\n",
        "import json\n",
        "# excell\n",
        "import xlrd"
      ]
    },
    {
      "cell_type": "code",
      "source": [
        "url_base = \"https://www.conab.gov.br\""
      ],
      "metadata": {
        "id": "t1bz5iigmukA"
      },
      "execution_count": 6,
      "outputs": []
    },
    {
      "cell_type": "code",
      "source": [
        "# funcao de download arquivos \n",
        "def downloadFile(url, file_name):    \n",
        "    r = requests.get(url, allow_redirects=True)\n",
        "    open(file_name, 'wb').write(r.content)"
      ],
      "metadata": {
        "id": "ZGsfl553pIOz"
      },
      "execution_count": 7,
      "outputs": []
    },
    {
      "cell_type": "code",
      "source": [
        "# Abrir pagina web\n",
        "def openWebPage(url):\n",
        "    # Make a GET request to fetch the raw HTML content\n",
        "    html_content = requests.get(url).text\n",
        "    # Parse the html content\n",
        "    soup = BeautifulSoup(html_content, 'html.parser')\n",
        "    #print(soup.prettify()) # print the parsed data of html\n",
        "    return soup"
      ],
      "metadata": {
        "id": "9E7kfWs8pLJW"
      },
      "execution_count": 8,
      "outputs": []
    },
    {
      "cell_type": "code",
      "source": [
        "# pagina de download \n",
        "def pagina_download (url_local):\n",
        "    file = []\n",
        "    op = openWebPage(url_local)\n",
        "    # produra links com xls no nome \n",
        "    links = op.find_all(\"a\", href = True, title = re.compile(\"xls\"))\n",
        "    # baixar todos os links da página \n",
        "    for link in links:\n",
        "        file_name = (link[\"title\"])        \n",
        "        url_download = url_base + link[\"href\"]\n",
        "        file.append( {\"file_name\": file_name, \"url_download\" :url_download})          \n",
        "    return(file)"
      ],
      "metadata": {
        "id": "n9qHYhdxpRyu"
      },
      "execution_count": 9,
      "outputs": []
    },
    {
      "cell_type": "markdown",
      "source": [
        "## PLANILHAS DE CUSTOS DE PRODUÇÃO"
      ],
      "metadata": {
        "id": "2kgA3t6KpXWq"
      }
    },
    {
      "cell_type": "code",
      "source": [
        "url_pagina_entrada = url_base + \"/info-agro/custos-de-producao/planilhas-de-custo-de-producao\"\n",
        "url_pagina_entrada"
      ],
      "metadata": {
        "colab": {
          "base_uri": "https://localhost:8080/",
          "height": 35
        },
        "id": "vWg3LA0kpane",
        "outputId": "1e61b8ec-8dc9-41f5-9bcb-0d8ae57dccba"
      },
      "execution_count": 10,
      "outputs": [
        {
          "output_type": "execute_result",
          "data": {
            "text/plain": [
              "'https://www.conab.gov.br/info-agro/custos-de-producao/planilhas-de-custo-de-producao'"
            ],
            "application/vnd.google.colaboratory.intrinsic+json": {
              "type": "string"
            }
          },
          "metadata": {},
          "execution_count": 10
        }
      ]
    },
    {
      "cell_type": "code",
      "source": [
        "# abrir pagina que dará acesso a todas as subpáginas para cada  planilha de cultura \n",
        "pagina_entrada = openWebPage(url_pagina_entrada)"
      ],
      "metadata": {
        "id": "ZO48iziJplXa"
      },
      "execution_count": 11,
      "outputs": []
    },
    {
      "cell_type": "code",
      "source": [
        "# Função que  procura dentro da tab da pagina todos os links para paginas de downloads de arquivos \n",
        "def lookUpTab(tab, folder):\n",
        "    arquivos_baixados = []\n",
        "      \n",
        "    # Procurar os links na aba  \n",
        "    for link in tab.find_all(href=True):   \n",
        "        url = url_base + link['href']\n",
        "        print(\"\\n\" + url_base + link['href'])\n",
        "        arquivos = pagina_download(url)   \n",
        "        \n",
        "        #baixa todos os arquivos da página\n",
        "        for arquivo in arquivos: \n",
        "            file_name = folder +\"/\"+ arquivo[\"file_name\"]\n",
        "            url= arquivo[\"url_download\"]\n",
        "            downloadFile(url , file_name)   \n",
        "            print(file_name)\n",
        "            arquivos_baixados.append({\"file_name\":file_name ,\"folder\": folder, \"url\":url })\n",
        "        \n",
        "    return arquivos_baixados\n",
        "    #print(arquivo[\"url_download\"])\n",
        "   "
      ],
      "metadata": {
        "id": "exaoMe4_qCn7"
      },
      "execution_count": 12,
      "outputs": []
    },
    {
      "cell_type": "code",
      "source": [
        "# abrir cada aba \n",
        "abas = [{\"div_id\":\"agrícolas-2\", \"folder\":\"agricola\"}, {\"div_id\":\"sociobiodiversidade-2\" , \"folder\":\"sociobiodiversidade\" }, {\"div_id\":\"pecu�rios-2\", \"folder\":\"pecuario\"} ]\n",
        "arquivos_baixados = []\n",
        "for aba in abas:\n",
        "    tab = pagina_entrada.find(id = aba[\"div_id\"])\n",
        "    folder = aba[\"folder\"]\n",
        "    try:\n",
        "        os.makedirs(folder)\n",
        "    except:\n",
        "        print(\"pasta existe\")        \n",
        "    arquivos_baixados.append(lookUpTab(tab, folder ))"
      ],
      "metadata": {
        "colab": {
          "base_uri": "https://localhost:8080/"
        },
        "id": "YNuOrqxBqOcT",
        "outputId": "76ef7227-4f5a-48ac-b28d-0b15b902c3bd"
      },
      "execution_count": 13,
      "outputs": [
        {
          "output_type": "stream",
          "name": "stdout",
          "text": [
            "\n",
            "https://www.conab.gov.br/info-agro/custos-de-producao/planilhas-de-custo-de-producao/itemlist/category/787-abacaxi\n",
            "agricola/Abacaxi_Serie_Historica_2008-2022.xlsx\n",
            "\n",
            "https://www.conab.gov.br/info-agro/custos-de-producao/planilhas-de-custo-de-producao/itemlist/category/860-acai-agricolas\n",
            "agricola/Acai_Serie_Historica_2016-2021.xlsx\n",
            "\n",
            "https://www.conab.gov.br/info-agro/custos-de-producao/planilhas-de-custo-de-producao/itemlist/category/788-algodao-em-pluma\n",
            "agricola/Algodao_Serie_Historica_1998-2022.xls\n",
            "\n",
            "https://www.conab.gov.br/info-agro/custos-de-producao/planilhas-de-custo-de-producao/itemlist/category/789-alho\n",
            "agricola/Serie_Historica_Alho_2015-2021.xlsx\n",
            "\n",
            "https://www.conab.gov.br/info-agro/custos-de-producao/planilhas-de-custo-de-producao/itemlist/category/790-amendoim\n",
            "agricola/Amendoim_Serie_Historica_2005-2022.xls\n",
            "\n",
            "https://www.conab.gov.br/info-agro/custos-de-producao/planilhas-de-custo-de-producao/itemlist/category/791-arroz\n",
            "agricola/Arroz_Sequeiro_Serie_Historica_2001-2022.xls\n",
            "agricola/Arroz_Irrigado_Serie_Historica_2002-2022.xls\n",
            "\n",
            "https://www.conab.gov.br/info-agro/custos-de-producao/planilhas-de-custo-de-producao/itemlist/category/792-aveia\n",
            "agricola/Serie_Historica_Aveia_2012-2021.xls\n",
            "\n",
            "https://www.conab.gov.br/info-agro/custos-de-producao/planilhas-de-custo-de-producao/itemlist/category/793-banana\n",
            "agricola/Banana_Serie_Historica_2008-2022.xlsx\n",
            "\n",
            "https://www.conab.gov.br/info-agro/custos-de-producao/planilhas-de-custo-de-producao/itemlist/category/794-batata-doce\n",
            "agricola/Batata_Doce_Serie_Historica_2012-2021.xlsx\n",
            "\n",
            "https://www.conab.gov.br/info-agro/custos-de-producao/planilhas-de-custo-de-producao/itemlist/category/795-batata-inglesa\n",
            "agricola/Batata_Inglesa_Serie_Historica_2012-2021.xlsx\n",
            "\n",
            "https://www.conab.gov.br/info-agro/custos-de-producao/planilhas-de-custo-de-producao/itemlist/category/796-borracha\n",
            "agricola/Borracha_Serie_Historica_2011-2022.xlsx\n",
            "\n",
            "https://www.conab.gov.br/info-agro/custos-de-producao/planilhas-de-custo-de-producao/itemlist/category/797-cacau\n",
            "agricola/Cacau_Serie_Historica_2012-2022.xlsx\n",
            "\n",
            "https://www.conab.gov.br/info-agro/custos-de-producao/planilhas-de-custo-de-producao/itemlist/category/798-cafe-arabica\n",
            "agricola/Serie_Historica_Cafe_Arabica_2003-2021.xls\n",
            "\n",
            "https://www.conab.gov.br/info-agro/custos-de-producao/planilhas-de-custo-de-producao/itemlist/category/799-cafe-conilon\n",
            "agricola/Serie_Historica_Cafe_Conilon_2007-2021.xls\n",
            "\n",
            "https://www.conab.gov.br/info-agro/custos-de-producao/planilhas-de-custo-de-producao/itemlist/category/800-cana-de-acucar\n",
            "agricola/Cana_de_Acucar_Serie_Historica_2008-2022.xls\n",
            "\n",
            "https://www.conab.gov.br/info-agro/custos-de-producao/planilhas-de-custo-de-producao/itemlist/category/801-canola\n",
            "agricola/Serie_Historica_Canola_2010-2021.xls\n",
            "\n",
            "https://www.conab.gov.br/info-agro/custos-de-producao/planilhas-de-custo-de-producao/itemlist/category/802-cara\n",
            "agricola/Cara_Serie_Historica_2018-2021.xlsx\n",
            "\n",
            "https://www.conab.gov.br/info-agro/custos-de-producao/planilhas-de-custo-de-producao/itemlist/category/803-castanha-de-caju\n",
            "agricola/Castanha_de_Caju_Serie_Historica_2008-2022.xlsx\n",
            "\n",
            "https://www.conab.gov.br/info-agro/custos-de-producao/planilhas-de-custo-de-producao/itemlist/category/804-casulo-de-seda\n",
            "agricola/Casulo_de_Seda_Serie_Historica_2016-2022.xls\n",
            "\n",
            "https://www.conab.gov.br/info-agro/custos-de-producao/planilhas-de-custo-de-producao/itemlist/category/805-cebola\n",
            "agricola/Cebola_Serie_Historica_2008-2021.xlsx\n",
            "\n",
            "https://www.conab.gov.br/info-agro/custos-de-producao/planilhas-de-custo-de-producao/itemlist/category/806-cevada\n",
            "agricola/Serie_Historica_Cevada_2012-2021.xls\n",
            "\n",
            "https://www.conab.gov.br/info-agro/custos-de-producao/planilhas-de-custo-de-producao/itemlist/category/807-erva-mate\n",
            "agricola/Erva_Mate_Serie_Historica_2014-2022.xlsx\n",
            "\n",
            "https://www.conab.gov.br/info-agro/custos-de-producao/planilhas-de-custo-de-producao/itemlist/category/809-feijao\n",
            "agricola/Feijao_2_e_3_Safras_Serie_Historica_2013-2022.xls\n",
            "agricola/Feijao_1_Safra_Serie_Historica-1998-2022.xls\n",
            "\n",
            "https://www.conab.gov.br/info-agro/custos-de-producao/planilhas-de-custo-de-producao/itemlist/category/810-girassol\n",
            "agricola/Girassol_1_e_2_Safras_Serie_Historica_2013-2022.xls\n",
            "\n",
            "https://www.conab.gov.br/info-agro/custos-de-producao/planilhas-de-custo-de-producao/itemlist/category/811-guarana\n",
            "agricola/Guarana_Serie_Historica_2012-2022.xls\n",
            "\n",
            "https://www.conab.gov.br/info-agro/custos-de-producao/planilhas-de-custo-de-producao/itemlist/category/812-inhame\n",
            "agricola/Inhame_Serie_Historica_2007-2021.xlsx\n",
            "\n",
            "https://www.conab.gov.br/info-agro/custos-de-producao/planilhas-de-custo-de-producao/itemlist/category/813-juta-malva\n",
            "agricola/Juta_Malva_Serie_Historica_2009-2022.xlsx\n",
            "\n",
            "https://www.conab.gov.br/info-agro/custos-de-producao/planilhas-de-custo-de-producao/itemlist/category/814-laranja\n",
            "agricola/Laranja_Serie_Historica_2008-2022.xls\n",
            "\n",
            "https://www.conab.gov.br/info-agro/custos-de-producao/planilhas-de-custo-de-producao/itemlist/category/815-maca\n",
            "agricola/Maca_Serie_Historica_2010-2021.xls\n",
            "\n",
            "https://www.conab.gov.br/info-agro/custos-de-producao/planilhas-de-custo-de-producao/itemlist/category/816-mamona-em-baga\n",
            "agricola/Mamona_Serie_Historica_2008-2022.xlsx\n",
            "\n",
            "https://www.conab.gov.br/info-agro/custos-de-producao/planilhas-de-custo-de-producao/itemlist/category/817-mandioca\n",
            "agricola/Mandioca_Serie_Historica_2003-2022.xls\n",
            "\n",
            "https://www.conab.gov.br/info-agro/custos-de-producao/planilhas-de-custo-de-producao/itemlist/category/818-manga\n",
            "agricola/Manga_Serie_Historica_2013-2021.xlsx\n",
            "\n",
            "https://www.conab.gov.br/info-agro/custos-de-producao/planilhas-de-custo-de-producao/itemlist/category/819-maracuja\n",
            "agricola/Maracuja_Serie_Historica_2008-2021.xlsx\n",
            "\n",
            "https://www.conab.gov.br/info-agro/custos-de-producao/planilhas-de-custo-de-producao/itemlist/category/820-mel\n",
            "agricola/Mel_Serie_Historica_2014-2022.xlsx\n",
            "\n",
            "https://www.conab.gov.br/info-agro/custos-de-producao/planilhas-de-custo-de-producao/itemlist/category/821-milho\n",
            "agricola/Milho_2_Safra_Serie_Historica_2005-2022.xls\n",
            "agricola/Milho_Serie_Historica_1997-2022.xls\n",
            "\n",
            "https://www.conab.gov.br/info-agro/custos-de-producao/planilhas-de-custo-de-producao/itemlist/category/858-pessego\n",
            "agricola/Pessego_Serie_Historica_2009-2019.xls\n",
            "\n",
            "https://www.conab.gov.br/info-agro/custos-de-producao/planilhas-de-custo-de-producao/itemlist/category/822-pimenta-do-reino\n",
            "agricola/Pimenta_do_Reino_Serie_Historica_2008-2021.xlsx\n",
            "\n",
            "https://www.conab.gov.br/info-agro/custos-de-producao/planilhas-de-custo-de-producao/itemlist/category/823-sisal\n",
            "agricola/Sisal_Serie_Historica_2011-2022.xls\n",
            "\n",
            "https://www.conab.gov.br/info-agro/custos-de-producao/planilhas-de-custo-de-producao/itemlist/category/824-soja\n",
            "agricola/Soja_Serie_Historica_1997-2022.xls\n",
            "\n",
            "https://www.conab.gov.br/info-agro/custos-de-producao/planilhas-de-custo-de-producao/itemlist/category/825-sorgo\n",
            "agricola/Sorgo_Serie_Historica_2013-2022.xls\n",
            "\n",
            "https://www.conab.gov.br/info-agro/custos-de-producao/planilhas-de-custo-de-producao/itemlist/category/826-tangerina\n",
            "agricola/Tangerina_Serie_Historica_2008-2021.xlsx\n",
            "\n",
            "https://www.conab.gov.br/info-agro/custos-de-producao/planilhas-de-custo-de-producao/itemlist/category/827-tomate\n",
            "agricola/Tomate_Serie_Historica_2007-2021.xlsx\n",
            "\n",
            "https://www.conab.gov.br/info-agro/custos-de-producao/planilhas-de-custo-de-producao/itemlist/category/828-trigo\n",
            "agricola/Serie_Historica_Trigo_1998-2021.xls\n",
            "\n",
            "https://www.conab.gov.br/info-agro/custos-de-producao/planilhas-de-custo-de-producao/itemlist/category/829-triticale\n",
            "agricola/Serie_Historica_Triticale_2012-2021.xls\n",
            "\n",
            "https://www.conab.gov.br/info-agro/custos-de-producao/planilhas-de-custo-de-producao/itemlist/category/830-uva\n",
            "agricola/Uva_Serie_Historica_2004-2021.xls\n",
            "\n",
            "https://www.conab.gov.br/info-agro/custos-de-producao/planilhas-de-custo-de-producao/itemlist/category/837-acai-sociobiodiversidade\n",
            "sociobiodiversidade/Acai_Serie_Historica_2008-2021.xlsx\n",
            "\n",
            "https://www.conab.gov.br/info-agro/custos-de-producao/planilhas-de-custo-de-producao/itemlist/category/838-andiroba-amendoa\n",
            "sociobiodiversidade/Andiroba_Serie_Historica_2008-2021.xlsx\n",
            "\n",
            "https://www.conab.gov.br/info-agro/custos-de-producao/planilhas-de-custo-de-producao/itemlist/category/839-babacu-amendoa\n",
            "sociobiodiversidade/Babacu_Serie_Historica_2010-2021.xlsx\n",
            "\n",
            "https://www.conab.gov.br/info-agro/custos-de-producao/planilhas-de-custo-de-producao/itemlist/category/840-baru-amendoa\n",
            "sociobiodiversidade/Baru_Serie_Historica_2010-2021.xlsx\n",
            "\n",
            "https://www.conab.gov.br/info-agro/custos-de-producao/planilhas-de-custo-de-producao/itemlist/category/841-borracha\n",
            "sociobiodiversidade/Borracha_Serie_Historica_2008-2021_Sociobio.xlsx\n",
            "\n",
            "https://www.conab.gov.br/info-agro/custos-de-producao/planilhas-de-custo-de-producao/itemlist/category/842-buriti-fruto\n",
            "sociobiodiversidade/Buriti_Serie_Historica_2010-2021.xlsx\n",
            "\n",
            "https://www.conab.gov.br/info-agro/custos-de-producao/planilhas-de-custo-de-producao/itemlist/category/843-cacau\n",
            "sociobiodiversidade/Cacau_Serie_Historica_2011-2021_Sociobio.xlsx\n",
            "\n",
            "https://www.conab.gov.br/info-agro/custos-de-producao/planilhas-de-custo-de-producao/itemlist/category/844-carnauba\n",
            "sociobiodiversidade/Carnauba_Serie_Historica_2009-2021.xlsx\n",
            "\n",
            "https://www.conab.gov.br/info-agro/custos-de-producao/planilhas-de-custo-de-producao/itemlist/category/845-castanha-do-brasil\n",
            "sociobiodiversidade/Castanha_do_Brasil_Serie_Historica_2008-2021.xlsx\n",
            "\n",
            "https://www.conab.gov.br/info-agro/custos-de-producao/planilhas-de-custo-de-producao/itemlist/category/808-fava-d-anta\n",
            "sociobiodiversidade/Favadanta_Serie_Historica_2014-2021.xlsx\n",
            "\n",
            "https://www.conab.gov.br/info-agro/custos-de-producao/planilhas-de-custo-de-producao/itemlist/category/846-jucara-fruto\n",
            "sociobiodiversidade/Jucara_Serie_Historica_2012-2021.xlsx\n",
            "\n",
            "https://www.conab.gov.br/info-agro/custos-de-producao/planilhas-de-custo-de-producao/itemlist/category/847-licuri\n",
            "sociobiodiversidade/Licuri_Serie_Historica_2017-2021.xlsx\n",
            "\n",
            "https://www.conab.gov.br/info-agro/custos-de-producao/planilhas-de-custo-de-producao/itemlist/category/848-macauba\n",
            "sociobiodiversidade/Macauba_Serie_Historica_2013-2021.xlsx\n",
            "\n",
            "https://www.conab.gov.br/info-agro/custos-de-producao/planilhas-de-custo-de-producao/itemlist/category/849-mangaba\n",
            "sociobiodiversidade/Mangaba_Serie_Historica_2010-2021.xlsx\n",
            "\n",
            "https://www.conab.gov.br/info-agro/custos-de-producao/planilhas-de-custo-de-producao/itemlist/category/850-murumuru\n",
            "sociobiodiversidade/Murumuru_Serie_Historica_2017-2021.xlsx\n",
            "\n",
            "https://www.conab.gov.br/info-agro/custos-de-producao/planilhas-de-custo-de-producao/itemlist/category/851-pequi\n",
            "sociobiodiversidade/Pequi_Serie_Historica_2010-2021.xlsx\n",
            "\n",
            "https://www.conab.gov.br/info-agro/custos-de-producao/planilhas-de-custo-de-producao/itemlist/category/852-piacava\n",
            "sociobiodiversidade/Piacava_Serie_Historica_2011-2021.xlsx\n",
            "\n",
            "https://www.conab.gov.br/info-agro/custos-de-producao/planilhas-de-custo-de-producao/itemlist/category/853-pirarucu\n",
            "sociobiodiversidade/Pirarucu_Serie_Historica_2015-2021.xlsx\n",
            "\n",
            "https://www.conab.gov.br/info-agro/custos-de-producao/planilhas-de-custo-de-producao/itemlist/category/854-pinhao-de-araucaria\n",
            "sociobiodiversidade/Pinhao_Serie_Historica_2012-2021.xlsx\n",
            "\n",
            "https://www.conab.gov.br/info-agro/custos-de-producao/planilhas-de-custo-de-producao/itemlist/category/855-umbu\n",
            "sociobiodiversidade/Umbu_Serie_Historica_2010-2021.xlsx\n",
            "\n",
            "https://www.conab.gov.br/info-agro/custos-de-producao/planilhas-de-custo-de-producao/itemlist/category/832-avicultura-de-corte\n",
            "pecuario/Frango_Serie_Historica_2020-2022.xls\n",
            "pecuario/Frango_Serie_Historica_2016-2019.xls\n",
            "\n",
            "https://www.conab.gov.br/info-agro/custos-de-producao/planilhas-de-custo-de-producao/itemlist/category/833-bovinocultura-de-leite\n",
            "pecuario/Serie_Historica_Leite_SP_2014-2022.xls\n",
            "pecuario/Serie_Historica_Leite_PR_2018-2022.xls\n",
            "pecuario/Serie_Historica_Leite_MG_2014-2022.xls\n",
            "pecuario/Serie_Historica_Leite_SC_2014-2022.xls\n",
            "pecuario/Serie_Historica_Leite_RS_2014-2022.xls\n",
            "pecuario/Serie_Historica_Leite_RO_2014-2022.xls\n",
            "pecuario/Serie_Historica_Leite_CE_2015-2022.xls\n",
            "pecuario/Serie_Historica_Leite_GO_2014-2022.xls\n",
            "pecuario/Serie_Historica_Leite_RN_2015-2018.xls\n",
            "\n",
            "https://www.conab.gov.br/info-agro/custos-de-producao/planilhas-de-custo-de-producao/itemlist/category/834-caprinocultura-e-ovinocultura-de-corte\n",
            "pecuario/Caprinos_e_Ovinos_Serie_Historica_2008-2021.xlsx\n",
            "\n",
            "https://www.conab.gov.br/info-agro/custos-de-producao/planilhas-de-custo-de-producao/itemlist/category/835-suinocultura\n",
            "pecuario/Suinos_Serie_Historica_2016-2022.xls\n",
            "pecuario/Suinos_Serie_Historica_2005-2014.xls\n"
          ]
        }
      ]
    }
  ]
}